{
 "cells": [
  {
   "cell_type": "code",
   "execution_count": 15,
   "id": "4a28f658-a323-483f-8b23-b52d1275c4b8",
   "metadata": {},
   "outputs": [],
   "source": [
    "import pymongo"
   ]
  },
  {
   "cell_type": "code",
   "execution_count": 16,
   "id": "206efe29-4f13-40f0-9435-725ec17b529e",
   "metadata": {},
   "outputs": [],
   "source": [
    "#create connection\n",
    "client = pymongo.MongoClient(\"mongodb://localhost:27017/\")"
   ]
  },
  {
   "cell_type": "code",
   "execution_count": 17,
   "id": "b80ded7c-273f-4ef1-ac80-cbb32093fd0b",
   "metadata": {},
   "outputs": [],
   "source": [
    "all_databases = client.list_database_names()"
   ]
  },
  {
   "cell_type": "code",
   "execution_count": 18,
   "id": "3cf12cca-9922-425b-8e0e-00897d66325f",
   "metadata": {},
   "outputs": [
    {
     "data": {
      "text/plain": [
       "['FirstDB', 'SecondDB', 'admin', 'config', 'local']"
      ]
     },
     "execution_count": 18,
     "metadata": {},
     "output_type": "execute_result"
    }
   ],
   "source": [
    "all_databases"
   ]
  },
  {
   "cell_type": "code",
   "execution_count": 19,
   "id": "fe0b47b2-a974-4bc8-95d1-2768a6c4d83f",
   "metadata": {},
   "outputs": [],
   "source": [
    "# create database/switch database\n",
    "db = client['FirstDB']"
   ]
  },
  {
   "cell_type": "code",
   "execution_count": 20,
   "id": "04eaf100-df85-4784-ad47-a2d78d231977",
   "metadata": {},
   "outputs": [],
   "source": [
    "all_collections = db.list_collection_names()"
   ]
  },
  {
   "cell_type": "code",
   "execution_count": 21,
   "id": "b00e3d12-180a-4c44-a23a-f76c3ecbda86",
   "metadata": {},
   "outputs": [
    {
     "data": {
      "text/plain": [
       "['MySecondCollection', 'MyFirstCollection']"
      ]
     },
     "execution_count": 21,
     "metadata": {},
     "output_type": "execute_result"
    }
   ],
   "source": [
    "all_collections"
   ]
  },
  {
   "cell_type": "code",
   "execution_count": 12,
   "id": "cc1ed1ef-415c-401b-9cac-58b1d0734189",
   "metadata": {},
   "outputs": [],
   "source": [
    "# create collection/switch collection\n",
    "collection = db['MySecondCollection']"
   ]
  },
  {
   "cell_type": "code",
   "execution_count": 13,
   "id": "77dd46ae-0423-4e2e-943b-5fd20d6a06fa",
   "metadata": {},
   "outputs": [
    {
     "data": {
      "text/plain": [
       "InsertOneResult(ObjectId('6583579d0a42294b7aab6c7a'), acknowledged=True)"
      ]
     },
     "execution_count": 13,
     "metadata": {},
     "output_type": "execute_result"
    }
   ],
   "source": [
    "# insert one doc\n",
    "dict = {'name':'Mohan', 'location':'Nagar', 'marks':65}\n",
    "collection.insert_one(dict)"
   ]
  },
  {
   "cell_type": "code",
   "execution_count": 14,
   "id": "ac2fba43-dfbd-4334-8c83-fa6c3542b9fd",
   "metadata": {},
   "outputs": [
    {
     "data": {
      "text/plain": [
       "InsertManyResult([ObjectId('658357e00a42294b7aab6c7b'), ObjectId('658357e00a42294b7aab6c7c'), ObjectId('658357e00a42294b7aab6c7d'), ObjectId('658357e00a42294b7aab6c7e'), ObjectId('658357e00a42294b7aab6c7f'), ObjectId('658357e00a42294b7aab6c80'), ObjectId('658357e00a42294b7aab6c81'), ObjectId('658357e00a42294b7aab6c82'), ObjectId('658357e00a42294b7aab6c83'), ObjectId('658357e00a42294b7aab6c84')], acknowledged=True)"
      ]
     },
     "execution_count": 14,
     "metadata": {},
     "output_type": "execute_result"
    }
   ],
   "source": [
    "# insert many docs\n",
    "dict = [\n",
    "    {'name': 'Venky', 'location': 'Nanded', 'marks': 45},\n",
    "    {'name': 'Mohan', 'location': 'Pune', 'marks': 50},\n",
    "    {'name': 'Dinesh', 'location': 'Nanded', 'marks': 55},\n",
    "    {'name': 'Prasad', 'location': 'Latur', 'marks': 60},\n",
    "    {'name': 'Savita', 'location': 'Mumbai', 'marks': 75},\n",
    "    {'name': 'Amit', 'location': 'Delhi', 'marks': 80},\n",
    "    {'name': 'Sumit', 'location': 'Hydrabad', 'marks': 90},\n",
    "    {'name': 'Pawan', 'location': 'Surat', 'marks': 95},\n",
    "    {'name': 'Aman', 'location': 'Latur', 'marks': 85},\n",
    "    {'name': 'Test', 'location': 'Test', 'marks': 100}\n",
    "]\n",
    "collection.insert_many(dict)"
   ]
  },
  {
   "cell_type": "code",
   "execution_count": 7,
   "id": "ee55f8b3-9a9b-4677-b50f-6f895094825d",
   "metadata": {},
   "outputs": [
    {
     "data": {
      "text/plain": [
       "{'_id': ObjectId('65834e840a42294b7aab6c6e'),\n",
       " 'name': 'Mohan',\n",
       " 'location': 'Nagar',\n",
       " 'marks': 65}"
      ]
     },
     "execution_count": 7,
     "metadata": {},
     "output_type": "execute_result"
    }
   ],
   "source": [
    "# fetch one doc\n",
    "collection.find_one()"
   ]
  },
  {
   "cell_type": "code",
   "execution_count": 8,
   "id": "3d8a8e52-af4d-4d64-80fd-7b2532969a1a",
   "metadata": {},
   "outputs": [
    {
     "name": "stdout",
     "output_type": "stream",
     "text": [
      "{'_id': ObjectId('65834e840a42294b7aab6c6e'), 'name': 'Mohan', 'location': 'Nagar', 'marks': 65}\n",
      "{'_id': ObjectId('65834e850a42294b7aab6c6f'), 'name': 'Venky', 'location': 'Nanded', 'marks': 45}\n",
      "{'_id': ObjectId('65834e850a42294b7aab6c70'), 'name': 'Mohan', 'location': 'Pune', 'marks': 50}\n",
      "{'_id': ObjectId('65834e850a42294b7aab6c71'), 'name': 'Dinesh', 'location': 'Nanded', 'marks': 55}\n",
      "{'_id': ObjectId('65834e850a42294b7aab6c72'), 'name': 'Prasad', 'location': 'Latur', 'marks': 60}\n",
      "{'_id': ObjectId('65834e850a42294b7aab6c73'), 'name': 'Savita', 'location': 'Mumbai', 'marks': 75}\n",
      "{'_id': ObjectId('65834e850a42294b7aab6c74'), 'name': 'Amit', 'location': 'Delhi', 'marks': 80}\n",
      "{'_id': ObjectId('65834e850a42294b7aab6c75'), 'name': 'Sumit', 'location': 'Hydrabad', 'marks': 90}\n",
      "{'_id': ObjectId('65834e850a42294b7aab6c76'), 'name': 'Pawan', 'location': 'Surat', 'marks': 95}\n",
      "{'_id': ObjectId('65834e850a42294b7aab6c77'), 'name': 'Aman', 'location': 'Latur', 'marks': 85}\n",
      "{'_id': ObjectId('65834e850a42294b7aab6c78'), 'name': 'Test', 'location': 'Test', 'marks': 100}\n"
     ]
    }
   ],
   "source": [
    "# fetch all docs\n",
    "alldocs = collection.find()\n",
    "for items in alldocs:\n",
    "    print(items)"
   ]
  },
  {
   "cell_type": "code",
   "execution_count": 9,
   "id": "c5a3762b-cda1-4f0f-9b3b-96b3302ff259",
   "metadata": {},
   "outputs": [
    {
     "name": "stdout",
     "output_type": "stream",
     "text": [
      "{'_id': ObjectId('65834e840a42294b7aab6c6e'), 'name': 'Mohan', 'location': 'Nagar', 'marks': 65}\n",
      "{'_id': ObjectId('65834e850a42294b7aab6c70'), 'name': 'Mohan', 'location': 'Pune', 'marks': 50}\n"
     ]
    }
   ],
   "source": [
    "# fetch thos docs perticular key wise ex.'name':'Venky'\n",
    "alldocs = collection.find({'name':'Mohan'})\n",
    "for items in alldocs:\n",
    "    print(items)"
   ]
  },
  {
   "cell_type": "code",
   "execution_count": 10,
   "id": "3e98243b-4e73-4bc0-8bed-c469d2b4d1d9",
   "metadata": {},
   "outputs": [
    {
     "name": "stdout",
     "output_type": "stream",
     "text": [
      "{'name': 'Venky', 'location': 'Nanded'}\n"
     ]
    }
   ],
   "source": [
    "# fetch thos docs perticular key wise and 'marks' and '_id' key exclude ex.'marks':0\n",
    "alldocs = collection.find({'name':'Venky'},{'marks':0 ,'_id':0})\n",
    "for items in alldocs:\n",
    "    print(items)"
   ]
  },
  {
   "cell_type": "code",
   "execution_count": 11,
   "id": "246e2180-1c19-4f0e-b63f-592a8bc8fa9c",
   "metadata": {},
   "outputs": [
    {
     "data": {
      "text/plain": [
       "InsertOneResult(ObjectId('6583505b0a42294b7aab6c79'), acknowledged=True)"
      ]
     },
     "execution_count": 11,
     "metadata": {},
     "output_type": "execute_result"
    }
   ],
   "source": [
    "dict = {'name':'Om', 'location':'Nanded'}\n",
    "collection.insert_one(dict)"
   ]
  }
 ],
 "metadata": {
  "kernelspec": {
   "display_name": "Python 3 (ipykernel)",
   "language": "python",
   "name": "python3"
  },
  "language_info": {
   "codemirror_mode": {
    "name": "ipython",
    "version": 3
   },
   "file_extension": ".py",
   "mimetype": "text/x-python",
   "name": "python",
   "nbconvert_exporter": "python",
   "pygments_lexer": "ipython3",
   "version": "3.10.2"
  }
 },
 "nbformat": 4,
 "nbformat_minor": 5
}
