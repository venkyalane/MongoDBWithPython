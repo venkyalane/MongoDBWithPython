{
 "cells": [
  {
   "cell_type": "code",
   "execution_count": 1,
   "id": "ac267482-3a16-4905-96d0-47a1edf30972",
   "metadata": {
    "scrolled": true
   },
   "outputs": [
    {
     "name": "stdout",
     "output_type": "stream",
     "text": [
      "List of all databases: ['FirstDB', 'SecondDB', 'admin', 'config', 'local']\n",
      "Database name: FirstDB\n",
      "List of all collections in FirstDB database: ['MySecondCollection', 'MyFirstCollection']\n",
      "Collection name: MySecondCollection\n",
      "This doc from MySecondCollection collection in FirstDB database:\n",
      " {'_id': ObjectId('6583579d0a42294b7aab6c7a'), 'name': 'Mohan', 'location': 'Nagar', 'marks': 65}\n",
      "This doc from MySecondCollection collection in FirstDB database:\n",
      " {'_id': ObjectId('658357e00a42294b7aab6c7b'), 'name': 'Venky', 'location': 'Nanded', 'marks': 45}\n",
      "This doc from MySecondCollection collection in FirstDB database:\n",
      " {'_id': ObjectId('658357e00a42294b7aab6c7c'), 'name': 'Mohan', 'location': 'Pune', 'marks': 50}\n",
      "This doc from MySecondCollection collection in FirstDB database:\n",
      " {'_id': ObjectId('658357e00a42294b7aab6c7d'), 'name': 'Dinesh', 'location': 'Nanded', 'marks': 55}\n",
      "This doc from MySecondCollection collection in FirstDB database:\n",
      " {'_id': ObjectId('658357e00a42294b7aab6c7e'), 'name': 'Prasad', 'location': 'Latur', 'marks': 60}\n",
      "This doc from MySecondCollection collection in FirstDB database:\n",
      " {'_id': ObjectId('658357e00a42294b7aab6c7f'), 'name': 'Savita', 'location': 'Mumbai', 'marks': 75}\n",
      "This doc from MySecondCollection collection in FirstDB database:\n",
      " {'_id': ObjectId('658357e00a42294b7aab6c80'), 'name': 'Amit', 'location': 'Delhi', 'marks': 80}\n",
      "This doc from MySecondCollection collection in FirstDB database:\n",
      " {'_id': ObjectId('658357e00a42294b7aab6c81'), 'name': 'Sumit', 'location': 'Hydrabad', 'marks': 90}\n",
      "This doc from MySecondCollection collection in FirstDB database:\n",
      " {'_id': ObjectId('658357e00a42294b7aab6c82'), 'name': 'Pawan', 'location': 'Surat', 'marks': 95}\n",
      "This doc from MySecondCollection collection in FirstDB database:\n",
      " {'_id': ObjectId('658357e00a42294b7aab6c83'), 'name': 'Aman', 'location': 'Latur', 'marks': 85}\n",
      "This doc from MySecondCollection collection in FirstDB database:\n",
      " {'_id': ObjectId('658357e00a42294b7aab6c84'), 'name': 'Test', 'location': 'Test', 'marks': 100}\n",
      "Collection name: MyFirstCollection\n",
      "This doc from MyFirstCollection collection in FirstDB database:\n",
      " {'_id': ObjectId('65834e840a42294b7aab6c6e'), 'name': 'Mohan', 'location': 'Nagar', 'marks': 65}\n",
      "This doc from MyFirstCollection collection in FirstDB database:\n",
      " {'_id': ObjectId('65834e850a42294b7aab6c6f'), 'name': 'Venky', 'location': 'Nanded', 'marks': 45}\n",
      "This doc from MyFirstCollection collection in FirstDB database:\n",
      " {'_id': ObjectId('65834e850a42294b7aab6c70'), 'name': 'Mohan', 'location': 'Pune', 'marks': 50}\n",
      "This doc from MyFirstCollection collection in FirstDB database:\n",
      " {'_id': ObjectId('65834e850a42294b7aab6c71'), 'name': 'Dinesh', 'location': 'Nanded', 'marks': 55}\n",
      "This doc from MyFirstCollection collection in FirstDB database:\n",
      " {'_id': ObjectId('65834e850a42294b7aab6c72'), 'name': 'Prasad', 'location': 'Latur', 'marks': 60}\n",
      "This doc from MyFirstCollection collection in FirstDB database:\n",
      " {'_id': ObjectId('65834e850a42294b7aab6c73'), 'name': 'Savita', 'location': 'Mumbai', 'marks': 75}\n",
      "This doc from MyFirstCollection collection in FirstDB database:\n",
      " {'_id': ObjectId('65834e850a42294b7aab6c74'), 'name': 'Amit', 'location': 'Delhi', 'marks': 80}\n",
      "This doc from MyFirstCollection collection in FirstDB database:\n",
      " {'_id': ObjectId('65834e850a42294b7aab6c75'), 'name': 'Sumit', 'location': 'Hydrabad', 'marks': 90}\n",
      "This doc from MyFirstCollection collection in FirstDB database:\n",
      " {'_id': ObjectId('65834e850a42294b7aab6c76'), 'name': 'Pawan', 'location': 'Surat', 'marks': 95}\n",
      "This doc from MyFirstCollection collection in FirstDB database:\n",
      " {'_id': ObjectId('65834e850a42294b7aab6c77'), 'name': 'Aman', 'location': 'Latur', 'marks': 85}\n",
      "This doc from MyFirstCollection collection in FirstDB database:\n",
      " {'_id': ObjectId('65834e850a42294b7aab6c78'), 'name': 'Test', 'location': 'Test', 'marks': 100}\n",
      "This doc from MyFirstCollection collection in FirstDB database:\n",
      " {'_id': ObjectId('6583505b0a42294b7aab6c79'), 'name': 'Om', 'location': 'Nanded'}\n",
      "Database name: SecondDB\n",
      "List of all collections in SecondDB database: ['FirstCollection']\n",
      "Collection name: FirstCollection\n",
      "This doc from FirstCollection collection in SecondDB database:\n",
      " {'_id': ObjectId('658361851ce05d86c8ef4aa2'), 'bookname': 'Python', 'writer': 'Venky', 'price': 200}\n",
      "This doc from FirstCollection collection in SecondDB database:\n",
      " {'_id': ObjectId('65836a88944fe3aed1ff4138'), 'bookname': 'MySQL', 'price': 250}\n"
     ]
    }
   ],
   "source": [
    "import time\n",
    "import pymongo\n",
    "\n",
    "client = pymongo.MongoClient(\"mongodb://localhost:27017/\")\n",
    "\n",
    "all_databases = client.list_database_names()\n",
    "print(f'List of all databases: {all_databases}')\n",
    "for dbs in all_databases[0:2]:\n",
    "    db = client[dbs]\n",
    "    print(f'Database name: {dbs}')\n",
    "    all_collections = db.list_collection_names()\n",
    "    print(f'List of all collections in {dbs} database: {all_collections}')\n",
    "    for i in all_collections:\n",
    "        collection = db[i]\n",
    "        print(f'Collection name: {i}')\n",
    "        docs = collection.find()\n",
    "        for j in docs:\n",
    "            print(f'This doc from {i} collection in {dbs} database:\\n', j)\n",
    "            time.sleep(.5)"
   ]
  },
  {
   "cell_type": "code",
   "execution_count": null,
   "id": "a51dc106-d2ae-46e2-a795-c23146d4c23f",
   "metadata": {},
   "outputs": [],
   "source": []
  }
 ],
 "metadata": {
  "kernelspec": {
   "display_name": "Python 3 (ipykernel)",
   "language": "python",
   "name": "python3"
  },
  "language_info": {
   "codemirror_mode": {
    "name": "ipython",
    "version": 3
   },
   "file_extension": ".py",
   "mimetype": "text/x-python",
   "name": "python",
   "nbconvert_exporter": "python",
   "pygments_lexer": "ipython3",
   "version": "3.10.2"
  }
 },
 "nbformat": 4,
 "nbformat_minor": 5
}
